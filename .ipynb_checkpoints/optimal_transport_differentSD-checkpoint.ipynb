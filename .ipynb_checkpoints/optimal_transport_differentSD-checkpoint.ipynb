{
 "cells": [
  {
   "cell_type": "markdown",
   "metadata": {},
   "source": [
    "# Import packages"
   ]
  },
  {
   "cell_type": "code",
   "execution_count": 1,
   "metadata": {},
   "outputs": [],
   "source": [
    "import numpy as np\n",
    "import matplotlib.pyplot as plt\n",
    "from sklearn.linear_model import LinearRegression\n",
    "import random\n",
    "global_lambdas = []\n",
    "global_gammas = []"
   ]
  },
  {
   "cell_type": "markdown",
   "metadata": {},
   "source": [
    "# Generate data"
   ]
  },
  {
   "cell_type": "code",
   "execution_count": 2,
   "metadata": {},
   "outputs": [],
   "source": [
    "mu, sigma = 0, 3 # mean and standard deviation\n",
    "N = 10000"
   ]
  },
  {
   "cell_type": "markdown",
   "metadata": {},
   "source": [
    "### Generate z_vec"
   ]
  },
  {
   "cell_type": "markdown",
   "metadata": {},
   "source": [
    "Generate vector z of hidden states as follows:\n",
    "\n",
    "$$z_{i} = \\gamma z_{i-1} + \\delta_i \\hspace{0.5cm} \\text{with } z_0 = 0, \\hspace{0.2cm} \\gamma = 0.5, \\hspace{0.2cm} \\delta = norm(0, 1)$$"
   ]
  },
  {
   "cell_type": "code",
   "execution_count": 3,
   "metadata": {},
   "outputs": [],
   "source": [
    "z0 = 0\n",
    "gamma = 0.7\n",
    "delta = np.random.normal(mu, sigma, N)\n",
    "z_vec = []\n",
    "z_vec.append(gamma*z0 + delta[0])\n",
    "for i in range(1, N):\n",
    "    z_vec.append(gamma*z_vec[i-1] + delta[i])  \n",
    "\n",
    "# convert to np array\n",
    "z_vec = np.array(z_vec)"
   ]
  },
  {
   "cell_type": "markdown",
   "metadata": {},
   "source": [
    "### Generate x_vec"
   ]
  },
  {
   "cell_type": "markdown",
   "metadata": {},
   "source": [
    "Generate vector x of observations as follows:\n",
    "\n",
    "$$x_{i} = norm(z_{i},1) \\hspace{0.5cm}$$"
   ]
  },
  {
   "cell_type": "code",
   "execution_count": 4,
   "metadata": {},
   "outputs": [],
   "source": [
    "x_vec = []\n",
    "for i in range(N):\n",
    "    x_i = np.random.normal(z_vec[i], sigma)\n",
    "    #x_i = z_vec[i]\n",
    "    x_vec.append(x_i)\n",
    "\n",
    "# convert to np array\n",
    "x_vec = np.array(x_vec)"
   ]
  },
  {
   "cell_type": "markdown",
   "metadata": {},
   "source": [
    "# Algorithm"
   ]
  },
  {
   "cell_type": "markdown",
   "metadata": {},
   "source": [
    "$$ \\underset{z}{min} \\sum_{i} \\left[\\left(x_i - z_i \\right)^2 + \\lambda \\left(z_i - \\gamma z_{i-1}\\right)^2\\right]$$\n",
    "\n",
    "Taking derivative over $z_i$ gives us:\n",
    "$$-2\\lambda \\gamma z_{i-1} + (2 + 2\\lambda - 2\\gamma^2\\lambda) - 2\\lambda \\gamma z_{i+1} = 2x_i$$\n",
    "\n",
    "LU decomposition of the tridiagonal matrix gives us the following system of equations:\n",
    "\n",
    "\\begin{equation}\n",
    "    \\begin{split}\n",
    "        & t_1 = v = 2 + 2\\lambda - 2\\gamma^2\\lambda, \\hspace{1cm} u = r_jt_{j-1} = - 2\\lambda \\gamma \\\\\n",
    "        & \\begin{cases} v = r_ju + t_j \\hspace{0.1cm} \\text{if} \\hspace{0.1cm} j \\le m \\\\  2 + 2 \\lambda = r_ju + t_j \\hspace{0.1cm} \\text{if} \\hspace{0.1cm} j = m\\end{cases}\n",
    "    \\end{split}\n",
    "\\end{equation}\n",
    "\n",
    "\n",
    "**Step 1**: Estimate $\\gamma$ using LU decomposition\n",
    "\n",
    "**Step 2**: Estimate $z$ from the just-found $\\gamma$"
   ]
  },
  {
   "cell_type": "code",
   "execution_count": 5,
   "metadata": {},
   "outputs": [],
   "source": [
    "def step_one(lmda, gamma, x_vec, N, z=None):\n",
    "    \n",
    "    u = -2*lmda*gamma\n",
    "    v = 2 + 2*lmda + 2*lmda*(gamma**2)\n",
    "    c_vec = 2*x_vec\n",
    "    r_vec = []\n",
    "    t_vec = []\n",
    "    t_vec.append(v)\n",
    "    # calculate LU\n",
    "    for i in range(N):\n",
    "        r_vec.append(u/t_vec[i])\n",
    "        if i < N-1:\n",
    "            t_vec.append(v-r_vec[i]*u)\n",
    "        else:\n",
    "            t_vec.append(2+2*lmda-r_vec[i]*u)\n",
    "    \n",
    "    # Az = C -> LUz = C, let Uz = D -> LD = C\n",
    "    d_vec = []\n",
    "    d_vec.append(c_vec[0])\n",
    "    for i in range(1, N):\n",
    "        d_vec.append(c_vec[i] - r_vec[i-1]*d_vec[i-1])\n",
    "    \n",
    "    # Calculate z\n",
    "    found_z = []\n",
    "    found_z.append(d_vec[N-1]/t_vec[N-1])\n",
    "    for i in range (N-2, -1, -1):\n",
    "        z_i = (d_vec[i] - u*found_z[len(found_z)-1])/t_vec[i]\n",
    "        found_z.append(z_i)\n",
    "    found_z.reverse()\n",
    "    z = np.array(z, dtype='float')\n",
    "    found_z = np.array(found_z, dtype='float')\n",
    "    \n",
    "    MSE = None\n",
    "    if z is not None:\n",
    "        MSE = np.sum((z - found_z)**2)/N\n",
    "    return found_z, MSE"
   ]
  },
  {
   "cell_type": "code",
   "execution_count": 6,
   "metadata": {},
   "outputs": [],
   "source": [
    "def step_two(z):\n",
    "    Z = []\n",
    "    Z.append(z0)\n",
    "    for i in range(N-1):\n",
    "        Z.append(z[i])\n",
    "    Z = np.matrix(Z, dtype='float')\n",
    "    ZZ = np.matmul(Z, Z.transpose())\n",
    "    ZZ = np.linalg.pinv(ZZ)\n",
    "    ZZ_vec = np.matmul(Z, z.transpose())\n",
    "    gamma_vec = ZZ*ZZ_vec\n",
    "    gamma = gamma_vec.item(0)\n",
    "    return gamma"
   ]
  },
  {
   "cell_type": "code",
   "execution_count": 7,
   "metadata": {},
   "outputs": [],
   "source": [
    "def repeat_until_convergence(lmda, x_vec, z_vec, threshold):\n",
    "    gamma = random.randrange(0,1)\n",
    "    iteration = 0\n",
    "    while True:\n",
    "        if iteration == 0:\n",
    "            z = None\n",
    "        else:\n",
    "            z = found_z\n",
    "        found_z, MSE = step_one(lmda, gamma, x_vec, N, z)\n",
    "        gamma = step_two(found_z)\n",
    "        iteration += 1\n",
    "        print(MSE)\n",
    "        if MSE != None and MSE < threshold:\n",
    "            gammas.append(gamma)\n",
    "            print(\"When lmda is\", lmda, \", the found gamma is:\", gamma)\n",
    "            break"
   ]
  },
  {
   "cell_type": "code",
   "execution_count": 8,
   "metadata": {},
   "outputs": [
    {
     "name": "stdout",
     "output_type": "stream",
     "text": [
      "nan\n",
      "1.1092242936561564e-05\n",
      "3.162267102326514e-11\n",
      "When lmda is 0.001 , the found gamma is: 0.4549023126300332\n",
      "nan\n",
      "0.0002729630083452541\n",
      "1.905821545614231e-08\n",
      "1.4825124564812466e-12\n",
      "When lmda is 0.005 , the found gamma is: 0.45815039326582946\n",
      "nan\n",
      "0.0774070959322182\n",
      "0.001378551360240744\n",
      "2.524463989945235e-05\n",
      "4.5931221756118654e-07\n",
      "8.346711579990509e-09\n",
      "1.5165199566475688e-10\n",
      "When lmda is 0.1 , the found gamma is: 0.5342495918899276\n",
      "nan\n",
      "0.22656015953612973\n",
      "0.010936059779951952\n",
      "0.00045430794527109245\n",
      "1.821017562346224e-05\n",
      "7.238125073347999e-07\n",
      "2.8719525438013114e-08\n",
      "1.1391357451709115e-09\n",
      "4.517968316053517e-11\n",
      "When lmda is 0.2 , the found gamma is: 0.6070092199020348\n",
      "nan\n",
      "0.3867761691589559\n",
      "0.03077103136350364\n",
      "0.0016718716126332943\n",
      "8.3456709827502e-05\n",
      "4.083380529231959e-06\n",
      "1.9887287884651545e-07\n",
      "9.675743043931932e-09\n",
      "4.706458733053689e-10\n",
      "When lmda is 0.3 , the found gamma is: 0.6675008311009754\n",
      "nan\n",
      "0.5360500901925194\n",
      "0.05914391729427049\n",
      "0.003453988006449282\n",
      "0.00017448424882408496\n",
      "8.545655330388022e-06\n",
      "4.156044871120301e-07\n",
      "2.0180601618256984e-08\n",
      "9.79574616452563e-10\n",
      "When lmda is 0.4 , the found gamma is: 0.7154392313520062\n",
      "nan\n",
      "0.6669410482769758\n",
      "0.0941593505342212\n",
      "0.005422647831110777\n",
      "0.0002529463154179006\n",
      "1.136006320595403e-05\n",
      "5.061297522432589e-07\n",
      "2.251148138929435e-08\n",
      "1.0008985812652602e-09\n",
      "4.4498268936116335e-11\n",
      "When lmda is 0.5 , the found gamma is: 0.7529083361440179\n",
      "nan\n",
      "0.7779242906272339\n",
      "0.13439790277298033\n",
      "0.007332460675909866\n",
      "0.0003026760985009112\n",
      "1.2005400876887672e-05\n",
      "4.7265833873131793e-07\n",
      "1.8581291808177537e-08\n",
      "7.30259095353477e-10\n",
      "When lmda is 0.6 , the found gamma is: 0.7823491673307679\n",
      "nan\n",
      "0.8699143368925989\n",
      "0.1788016357775631\n",
      "0.009074820996153034\n",
      "0.00032523395260038114\n",
      "1.1229988655192397e-05\n",
      "3.8555057365099127e-07\n",
      "1.3222951235770145e-08\n",
      "4.534100881352888e-10\n",
      "When lmda is 0.7 , the found gamma is: 0.8058019297365063\n",
      "nan\n",
      "0.9447614518139584\n",
      "0.22653278276431474\n",
      "0.01062114552095224\n",
      "0.0003281414349061026\n",
      "9.831337778895784e-06\n",
      "2.935968895091493e-07\n",
      "8.763097573580371e-09\n",
      "2.615313911837044e-10\n",
      "When lmda is 0.8 , the found gamma is: 0.824786060947564\n",
      "nan\n",
      "1.0045768907892507\n",
      "0.27689371644977256\n",
      "0.011980062849787783\n",
      "0.00031879306395102183\n",
      "8.305523177867474e-06\n",
      "2.1630045479012292e-07\n",
      "5.632983342269049e-09\n",
      "1.4669599987369e-10\n",
      "When lmda is 0.9 , the found gamma is: 0.8403994834752421\n",
      "nan\n",
      "1.0514304396367022\n",
      "0.3292878069860934\n",
      "0.013174134571725879\n",
      "0.00030269436533860073\n",
      "6.890040374703515e-06\n",
      "1.5725006272097898e-07\n",
      "3.5905151353911593e-09\n",
      "8.198847400410851e-11\n",
      "When lmda is 1.0 , the found gamma is: 0.8534316803603694\n"
     ]
    }
   ],
   "source": [
    "lambdas = [0.001, 0.005, 0.1, 0.2, 0.3, 0.4, 0.5, 0.6, 0.7, 0.8, 0.9, 1.0]\n",
    "gammas = []\n",
    "for lmda in lambdas:\n",
    "    threshold = 0.000000001\n",
    "    repeat_until_convergence(lmda, x_vec, z_vec, threshold)\n",
    "    "
   ]
  },
  {
   "cell_type": "code",
   "execution_count": 308,
   "metadata": {},
   "outputs": [
    {
     "name": "stdout",
     "output_type": "stream",
     "text": [
      "[0.001, 0.005, 0.1, 0.2, 0.3, 0.4, 0.5, 0.6, 0.7, 0.8, 0.9, 1.0] [0.10429163167139409, 0.10511785659974451, 0.12671551842686124, 0.15428043449668183, 0.18808525251095262, 0.22931633995056477, 0.2784908157486466, 0.33414903319819644, 0.3925734482424555, 0.449228160484155, 0.5007706451843483, 0.5460431509786197]\n"
     ]
    }
   ],
   "source": [
    "print(lambdas, gammas)"
   ]
  },
  {
   "cell_type": "code",
   "execution_count": 309,
   "metadata": {},
   "outputs": [],
   "source": [
    "global_lambdas.append(lambdas)\n",
    "global_gammas.append(gammas)"
   ]
  },
  {
   "cell_type": "code",
   "execution_count": 310,
   "metadata": {},
   "outputs": [
    {
     "data": {
      "text/plain": [
       "<matplotlib.legend.Legend at 0x125630820>"
      ]
     },
     "execution_count": 310,
     "metadata": {},
     "output_type": "execute_result"
    },
    {
     "data": {
      "image/png": "[encoded data removed]",
      "text/plain": [
       "<Figure size 432x288 with 1 Axes>"
      ]
     },
     "metadata": {
      "needs_background": "light"
     },
     "output_type": "display_data"
    }
   ],
   "source": [
    "for i in range(len(global_lambdas)):\n",
    "    plt.plot(global_lambdas[i], global_gammas[i], '.')\n",
    "\n",
    "dt = [\"100\", \"1000\", \"10000\", \"100000\"]\n",
    "plt.legend(dt)"
   ]
  },
  {
   "cell_type": "code",
   "execution_count": 40,
   "metadata": {},
   "outputs": [
    {
     "name": "stdout",
     "output_type": "stream",
     "text": [
      "12\n"
     ]
    }
   ],
   "source": [
    "print(len(global_lambdas[0]))"
   ]
  },
  {
   "cell_type": "code",
   "execution_count": null,
   "metadata": {},
   "outputs": [],
   "source": []
  },
  {
   "cell_type": "code",
   "execution_count": null,
   "metadata": {},
   "outputs": [],
   "source": []
  }
 ],
 "metadata": {
  "kernelspec": {
   "display_name": "Python 3",
   "language": "python",
   "name": "python3"
  },
  "language_info": {
   "codemirror_mode": {
    "name": "ipython",
    "version": 3
   },
   "file_extension": ".py",
   "mimetype": "text/x-python",
   "name": "python",
   "nbconvert_exporter": "python",
   "pygments_lexer": "ipython3",
   "version": "3.8.5"
  }
 },
 "nbformat": 4,
 "nbformat_minor": 4
}
