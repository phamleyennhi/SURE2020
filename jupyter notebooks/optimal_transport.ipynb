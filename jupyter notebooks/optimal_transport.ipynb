{
 "cells": [
  {
   "cell_type": "markdown",
   "metadata": {},
   "source": [
    "# Import packages"
   ]
  },
  {
   "cell_type": "code",
   "execution_count": 40,
   "metadata": {},
   "outputs": [],
   "source": [
    "import numpy as np\n",
    "import matplotlib.pyplot as plt\n",
    "from sklearn.linear_model import LinearRegression\n",
    "import random"
   ]
  },
  {
   "cell_type": "markdown",
   "metadata": {},
   "source": [
    "# Generate data"
   ]
  },
  {
   "cell_type": "code",
   "execution_count": 41,
   "metadata": {},
   "outputs": [],
   "source": [
    "mu, sigma = 0, 1 # mean and standard deviation\n",
    "N = 10000"
   ]
  },
  {
   "cell_type": "markdown",
   "metadata": {},
   "source": [
    "### Generate z_vec"
   ]
  },
  {
   "cell_type": "markdown",
   "metadata": {},
   "source": [
    "Generate vector z of hidden states as follows:\n",
    "\n",
    "$$z_{i} = \\gamma z_{i-1} + \\delta_i \\hspace{0.5cm} \\text{with } z_0 = 0, \\hspace{0.2cm} \\gamma = 0.5, \\hspace{0.2cm} \\delta = norm(0, 1)$$\n"
   ]
  },
  {
   "cell_type": "code",
   "execution_count": 42,
   "metadata": {},
   "outputs": [],
   "source": [
    "z0 = 0\n",
    "gamma = 0.5\n",
    "delta = np.random.normal(mu, sigma, N)\n",
    "z_vec = []\n",
    "z_vec.append(gamma*z0 + delta[0])\n",
    "for i in range(1, N):\n",
    "    z_vec.append(gamma*z_vec[i-1] + delta[i])  \n",
    "\n",
    "# convert to np array\n",
    "z_vec = np.array(z_vec)"
   ]
  },
  {
   "cell_type": "markdown",
   "metadata": {},
   "source": [
    "### Generate x_vec"
   ]
  },
  {
   "cell_type": "markdown",
   "metadata": {},
   "source": [
    "Generate vector x of observations as follows:\n",
    "\n",
    "$$x_{i} = norm(z_{i},1) \\hspace{0.5cm}$$"
   ]
  },
  {
   "cell_type": "code",
   "execution_count": 43,
   "metadata": {},
   "outputs": [],
   "source": [
    "x_vec = []\n",
    "for i in range(N):\n",
    "    x_i = np.random.normal(z_vec[i], sigma)\n",
    "    x_vec.append(x_i)\n",
    "\n",
    "# convert to np array\n",
    "x_vec = np.array(x_vec)"
   ]
  },
  {
   "cell_type": "markdown",
   "metadata": {},
   "source": [
    "# Find z_vec given parameters $\\alpha, \\beta, \\gamma, \\delta$"
   ]
  },
  {
   "cell_type": "markdown",
   "metadata": {},
   "source": [
    "if $\\alpha=1, \\beta=0, \\text{and } \\gamma=0.5, \\delta=0$, we expect to get the vector z that is approximately equal to our hidden vector z. The problem is as follows:\n",
    "\n",
    "$$z_i = \\text{argmin } [x_i - (\\alpha z_i + \\beta)]^2 + [z_i - (\\gamma z_{i-1} + \\delta)]^2 = \\text{argmin } (x_i - z_i)^2 + (z_i - 0.5 z_{i-1})^2$$\n",
    "\n",
    "This means that our solution should satisfy:\n",
    "$$4z_i - z_{i-1} = 2x_i \\Leftrightarrow z_i = \\frac{2x_i + z_{i-1}}{4}$$"
   ]
  },
  {
   "cell_type": "code",
   "execution_count": 44,
   "metadata": {},
   "outputs": [],
   "source": [
    "z = []\n",
    "z.append(2*x_vec[0]/4)\n",
    "for i in range(1, N):\n",
    "    z_i = (2*x_vec[i] + z[i-1])/4\n",
    "    z.append(z_i)\n",
    "    \n",
    "# convert to np array    \n",
    "z = np.array(z)"
   ]
  },
  {
   "cell_type": "markdown",
   "metadata": {},
   "source": [
    "### plot z and hidden z_vec"
   ]
  },
  {
   "cell_type": "code",
   "execution_count": 45,
   "metadata": {},
   "outputs": [
    {
     "data": {
      "text/plain": [
       "[<matplotlib.lines.Line2D at 0x121a22a60>]"
      ]
     },
     "execution_count": 45,
     "metadata": {},
     "output_type": "execute_result"
    },
    {
     "data": {
      "image/png": "[encoded data removed]",
      "text/plain": [
       "<Figure size 432x288 with 1 Axes>"
      ]
     },
     "metadata": {
      "needs_background": "light"
     },
     "output_type": "display_data"
    }
   ],
   "source": [
    "plt.plot(z, z_vec, '.')"
   ]
  },
  {
   "cell_type": "markdown",
   "metadata": {},
   "source": [
    "Use linear regression to estimate the found z and hidden z_vec\n",
    "$$z{\\text{_vec}} = az + b$$"
   ]
  },
  {
   "cell_type": "code",
   "execution_count": 46,
   "metadata": {},
   "outputs": [],
   "source": [
    "Z = []\n",
    "for i in range(N):\n",
    "    params = [z[i], 1]\n",
    "    Z.append(params)\n",
    "Z = np.matrix(Z, dtype='float')\n",
    "ZZ = np.matmul(Z.transpose(),Z)\n",
    "ZZ = np.linalg.inv(ZZ)\n",
    "ZZ_vec = np.matmul(Z.transpose(), z_vec).transpose()\n",
    "ab = ZZ*ZZ_vec"
   ]
  },
  {
   "cell_type": "code",
   "execution_count": 47,
   "metadata": {},
   "outputs": [
    {
     "name": "stdout",
     "output_type": "stream",
     "text": [
      "[[ 1.04235294]\n",
      " [-0.003123  ]]\n"
     ]
    }
   ],
   "source": [
    "print(ab)"
   ]
  },
  {
   "cell_type": "code",
   "execution_count": 48,
   "metadata": {},
   "outputs": [],
   "source": [
    "a = ab.item(0)\n",
    "b = ab.item(1)"
   ]
  },
  {
   "cell_type": "code",
   "execution_count": 49,
   "metadata": {},
   "outputs": [],
   "source": [
    "z_hat = []\n",
    "for i in range(N):\n",
    "    z_hat.append(a*z[i] + b)"
   ]
  },
  {
   "cell_type": "code",
   "execution_count": 50,
   "metadata": {},
   "outputs": [
    {
     "data": {
      "text/plain": [
       "[<matplotlib.lines.Line2D at 0x121ba1640>]"
      ]
     },
     "execution_count": 50,
     "metadata": {},
     "output_type": "execute_result"
    },
    {
     "data": {
      "image/png": "[encoded data removed]",
      "text/plain": [
       "<Figure size 432x288 with 1 Axes>"
      ]
     },
     "metadata": {
      "needs_background": "light"
     },
     "output_type": "display_data"
    }
   ],
   "source": [
    "plt.plot(z, z_vec, '.')\n",
    "plt.plot(z, z_hat)"
   ]
  },
  {
   "cell_type": "markdown",
   "metadata": {},
   "source": [
    "# Find z_vec NOT given parameters $\\alpha, \\beta, \\gamma, \\delta$"
   ]
  },
  {
   "cell_type": "markdown",
   "metadata": {},
   "source": [
    "$$\\textbf{Var} = [x_i - (\\alpha z_i + \\beta)]^2 + [z_i - (\\gamma z_{i-1} + \\delta)]^2 = (x_i - z_i)^2 + (z_i - \\gamma z_{i-1})^2 \\hspace{0.2cm} \\forall i = 1, 2, ..., m$$\n",
    "\n",
    "Iterate 2 steps until convergence:\n",
    "\n",
    "**Step 1:** Given x, $z_0$ = 0 and $\\gamma$, we adjust z to minimize the variance. The solution should satisfy:\n",
    "$$4z_i - 2*\\gamma*z_{i-1} = 2x_i \\Leftrightarrow z_i = \\frac{2x_i + 2*\\gamma*z_{i-1}}{4}$$\n",
    "**Step 2:** Given x, z, using the poor man procedure, we adjust $\\gamma$ to minimize the variance:\n",
    "$$z_i = \\gamma z_{i+1}$$\n"
   ]
  },
  {
   "cell_type": "code",
   "execution_count": 51,
   "metadata": {},
   "outputs": [
    {
     "name": "stdout",
     "output_type": "stream",
     "text": [
      "0.28209714286268506\n",
      "0.4143877417714517\n",
      "0.4727513725142662\n",
      "0.4977732003237795\n",
      "0.5083658975294396\n",
      "0.5128259501813237\n",
      "0.5146995492812294\n",
      "0.515485858997347\n",
      "0.5158157225222681\n",
      "0.5159540794629293\n"
     ]
    }
   ],
   "source": [
    "threshold = 1/N\n",
    "gamma = random.randrange(0,1)\n",
    "iteration = 0\n",
    "while True:\n",
    "    # step 1\n",
    "    if iteration > 0:\n",
    "        z_prev = z\n",
    "    z = []\n",
    "    z.append(2*x_vec[0]/4)\n",
    "    for i in range(1, N):\n",
    "        z_i = (2*x_vec[i] + 2*gamma*z[i-1])/4\n",
    "        z.append(z_i)\n",
    "    \n",
    "    z = np.array(z, dtype='float')\n",
    "    if iteration > 0:\n",
    "        error = np.sum((z - z_prev)**2)/N\n",
    "        if error < threshold:\n",
    "            break\n",
    "    \n",
    "    # step 2\n",
    "    Z = []\n",
    "    Z.append(z0)\n",
    "    for i in range(N-1):\n",
    "        Z.append(z[i])\n",
    "    Z = np.matrix(Z, dtype='float')\n",
    "    ZZ = np.matmul(Z, Z.transpose())\n",
    "    ZZ = np.linalg.pinv(ZZ)\n",
    "    ZZ_vec = np.matmul(Z, z.transpose())\n",
    "    gamma_vec = ZZ*ZZ_vec\n",
    "    gamma = gamma_vec.item(0)\n",
    "    print(gamma)\n",
    "    \n",
    "    iteration += 1\n",
    "    "
   ]
  },
  {
   "cell_type": "code",
   "execution_count": 52,
   "metadata": {},
   "outputs": [
    {
     "name": "stdout",
     "output_type": "stream",
     "text": [
      "0.5159540794629293\n"
     ]
    }
   ],
   "source": [
    "print(gamma)"
   ]
  },
  {
   "cell_type": "code",
   "execution_count": null,
   "metadata": {},
   "outputs": [],
   "source": []
  },
  {
   "cell_type": "code",
   "execution_count": null,
   "metadata": {},
   "outputs": [],
   "source": []
  },
  {
   "cell_type": "code",
   "execution_count": null,
   "metadata": {},
   "outputs": [],
   "source": []
  },
  {
   "cell_type": "code",
   "execution_count": null,
   "metadata": {},
   "outputs": [],
   "source": []
  },
  {
   "cell_type": "code",
   "execution_count": null,
   "metadata": {},
   "outputs": [],
   "source": []
  },
  {
   "cell_type": "code",
   "execution_count": null,
   "metadata": {},
   "outputs": [],
   "source": []
  },
  {
   "cell_type": "code",
   "execution_count": null,
   "metadata": {},
   "outputs": [],
   "source": []
  }
 ],
 "metadata": {
  "kernelspec": {
   "display_name": "Python 3",
   "language": "python",
   "name": "python3"
  },
  "language_info": {
   "codemirror_mode": {
    "name": "ipython",
    "version": 3
   },
   "file_extension": ".py",
   "mimetype": "text/x-python",
   "name": "python",
   "nbconvert_exporter": "python",
   "pygments_lexer": "ipython3",
   "version": "3.8.5"
  }
 },
 "nbformat": 4,
 "nbformat_minor": 4
}
