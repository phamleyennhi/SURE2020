{
 "cells": [
  {
   "cell_type": "markdown",
   "metadata": {},
   "source": [
    "# Import packages"
   ]
  },
  {
   "cell_type": "code",
   "execution_count": 1,
   "metadata": {},
   "outputs": [],
   "source": [
    "import numpy as np\n",
    "import matplotlib.pyplot as plt\n",
    "from sklearn.linear_model import LinearRegression\n",
    "import random\n",
    "global_lambdas = []\n",
    "global_gammas = []"
   ]
  },
  {
   "cell_type": "markdown",
   "metadata": {},
   "source": [
    "# Generate data"
   ]
  },
  {
   "cell_type": "code",
   "execution_count": 2,
   "metadata": {},
   "outputs": [],
   "source": [
    "mu, sigma = 0, 1 # mean and standard deviation\n",
    "N = 1000"
   ]
  },
  {
   "cell_type": "markdown",
   "metadata": {},
   "source": [
    "### Generate z_vec"
   ]
  },
  {
   "cell_type": "markdown",
   "metadata": {},
   "source": [
    "Generate vector z of hidden states as follows:\n",
    "\n",
    "$$z_{i} = \\gamma z_{i-1} + \\delta_i \\hspace{0.5cm} \\text{with } z_0 = 0, \\hspace{0.2cm} \\gamma = 0.5, \\hspace{0.2cm} \\delta = norm(0, 1)$$"
   ]
  },
  {
   "cell_type": "code",
   "execution_count": 3,
   "metadata": {},
   "outputs": [],
   "source": [
    "z0 = 0\n",
    "gamma = 0.5\n",
    "delta = np.random.normal(mu, sigma, N)\n",
    "z_vec = []\n",
    "z_vec.append(gamma*z0 + delta[0])\n",
    "for i in range(1, N):\n",
    "    z_vec.append(gamma*z_vec[i-1] + delta[i])  \n",
    "\n",
    "# convert to np array\n",
    "z_vec = np.array(z_vec)"
   ]
  },
  {
   "cell_type": "markdown",
   "metadata": {},
   "source": [
    "### Generate x_vec"
   ]
  },
  {
   "cell_type": "markdown",
   "metadata": {},
   "source": [
    "Generate vector x of observations as follows:\n",
    "\n",
    "$$x_{i} = norm(z_{i},1) \\hspace{0.5cm}$$"
   ]
  },
  {
   "cell_type": "code",
   "execution_count": 4,
   "metadata": {},
   "outputs": [],
   "source": [
    "x_vec = []\n",
    "for i in range(N):\n",
    "    x_i = np.random.normal(z_vec[i], sigma)\n",
    "    #x_i = z_vec[i]\n",
    "    x_vec.append(x_i)\n",
    "\n",
    "# convert to np array\n",
    "x_vec = np.array(x_vec)"
   ]
  },
  {
   "cell_type": "markdown",
   "metadata": {},
   "source": [
    "# Algorithm"
   ]
  },
  {
   "cell_type": "markdown",
   "metadata": {},
   "source": [
    "$$ \\underset{z}{min} \\sum_{i} \\left[\\left(x_i - z_i \\right)^2 + \\lambda \\left(z_i - \\gamma z_{i-1}\\right)^2\\right] = \\sum_{i=1}^{m} \\left(x_i - z_i \\right)^2 + \\sum_{i=0}^{m-1}\\lambda \\left(y_{i+1} - \\gamma z_{i}\\right)^2$$\n",
    "\n",
    "Taking derivative over $z_i$ gives us:\n",
    "$$ -2\\left(x_i - z_i \\right) - 2\\lambda \\gamma \\left(y_{i+1} - \\gamma z_{i}\\right) = 0 \\Leftrightarrow z_i = \\frac{2\\gamma \\lambda y_{i+1} + 2x_i}{2 + 2\\gamma^2 \\lambda}$$\n",
    "\n",
    "$$z_m = x_m \\text{ if } i = m$$\n",
    "\n",
    "**Step 1**: Estimate $\\gamma$\n",
    "\n",
    "**Step 2**: Estimate $z$ from the just-found $\\gamma$"
   ]
  },
  {
   "cell_type": "code",
   "execution_count": 5,
   "metadata": {},
   "outputs": [],
   "source": [
    "def step_one(lmda, gamma, x_vec, N, y_vec):\n",
    "    z = []\n",
    "    for i in range(N-1):\n",
    "        if y_vec is None:\n",
    "            z_i = (2.0*x_vec[i])/(2.0+2.0*gamma*lmda)\n",
    "        else:\n",
    "            z_i = (2.0*lmda*y_vec[i+1] + 2.0*x_vec[i])/(2.0+2.0*gamma*lmda)\n",
    "        z.append(z_i)\n",
    "    z.append(x_vec[N-1])\n",
    "    z = np.array(z, dtype='float')\n",
    "    y_vec = np.array(y_vec, dtype='float')\n",
    "    \n",
    "    MSE = None\n",
    "    if y_vec is not None:\n",
    "        MSE = np.sum((y_vec - z)**2)/N\n",
    "    return z, MSE"
   ]
  },
  {
   "cell_type": "code",
   "execution_count": 6,
   "metadata": {},
   "outputs": [],
   "source": [
    "def step_two(z):\n",
    "    Z = []\n",
    "    Z.append(z0)\n",
    "    for i in range(N-1):\n",
    "        Z.append(z[i])\n",
    "    Z = np.matrix(Z, dtype='float')\n",
    "    ZZ = np.matmul(Z, Z.transpose())\n",
    "    ZZ = np.linalg.pinv(ZZ)\n",
    "    ZZ_vec = np.matmul(Z, z.transpose())\n",
    "    gamma_vec = ZZ*ZZ_vec\n",
    "    gamma = gamma_vec.item(0)\n",
    "    return gamma"
   ]
  },
  {
   "cell_type": "code",
   "execution_count": 7,
   "metadata": {},
   "outputs": [],
   "source": [
    "def repeat_until_convergence(lmda, x_vec, z_vec, threshold):\n",
    "    gamma = random.randrange(0,1)\n",
    "    iteration = 0\n",
    "    while True:\n",
    "        if iteration == 0:\n",
    "            y_vec = None\n",
    "        else:\n",
    "            y_vec = found_z\n",
    "        found_z, MSE = step_one(lmda, gamma, x_vec, N, y_vec)\n",
    "        gamma = step_two(found_z)\n",
    "        iteration += 1\n",
    "        print(MSE)\n",
    "        if MSE != None and MSE < threshold:\n",
    "            gammas.append(gamma)\n",
    "            print(\"When lmda is\", lmda, \", the found gamma is:\", gamma)\n",
    "            break"
   ]
  },
  {
   "cell_type": "code",
   "execution_count": 8,
   "metadata": {},
   "outputs": [
    {
     "name": "stdout",
     "output_type": "stream",
     "text": [
      "nan\n",
      "2.158566873007331e-06\n",
      "4.060714162448554e-12\n",
      "When lmda is 0.001 , the found gamma is: 0.3376171784238043\n",
      "nan\n",
      "5.381916464769587e-05\n",
      "2.5210046991358545e-09\n",
      "6.251308602361301e-14\n",
      "When lmda is 0.005 , the found gamma is: 0.341355342326436\n",
      "nan\n",
      "0.020216026747695303\n",
      "0.0003385535982407543\n",
      "3.2080937167224407e-06\n",
      "3.3486393547216314e-08\n",
      "3.506515478668897e-10\n",
      "When lmda is 0.1 , the found gamma is: 0.4236941090938313\n",
      "nan\n",
      "0.07584302937298848\n",
      "0.004397405069124241\n",
      "0.00015640459048810222\n",
      "5.274754085818668e-06\n",
      "2.029347799107386e-07\n",
      "6.512843392690331e-09\n",
      "2.343451169888639e-10\n",
      "When lmda is 0.2 , the found gamma is: 0.49672796503470823\n",
      "nan\n",
      "0.16036986294324435\n",
      "0.017858906488439675\n",
      "0.001319222127918625\n",
      "8.239976191475329e-05\n",
      "6.224049998562966e-06\n",
      "4.05547995371993e-07\n",
      "2.7516842688769142e-08\n",
      "1.875635058745654e-09\n",
      "1.230123177119529e-10\n",
      "When lmda is 0.3 , the found gamma is: 0.5568686515297359\n",
      "nan\n",
      "0.2684339191496847\n",
      "0.04520419165308697\n",
      "0.005399955340953154\n",
      "0.0005092101477081074\n",
      "5.777286514570506e-05\n",
      "6.073284873383094e-06\n",
      "6.225584567473523e-07\n",
      "6.638851878628892e-08\n",
      "6.842408002857642e-09\n",
      "7.120698671292788e-10\n",
      "When lmda is 0.4 , the found gamma is: 0.6061661610057808\n",
      "nan\n",
      "0.39560306131216805\n",
      "0.0888469822711941\n",
      "0.014919710551686357\n",
      "0.0019225239283602227\n",
      "0.0002852254259412249\n",
      "4.2078481244752123e-05\n",
      "5.872215219414707e-06\n",
      "8.495162322955378e-07\n",
      "1.214621180558517e-07\n",
      "1.724037965197761e-08\n",
      "2.4644108877676453e-09\n",
      "3.493259227071249e-10\n",
      "When lmda is 0.5 , the found gamma is: 0.6467350134555003\n",
      "nan\n",
      "0.5382027958483347\n",
      "0.14969073677744993\n",
      "0.03234871103766697\n",
      "0.005364061175038447\n",
      "0.0009670005302544352\n",
      "0.0001818355413882944\n",
      "3.242436698526338e-05\n",
      "5.884025634756183e-06\n",
      "1.0722499701842355e-06\n",
      "1.9345476747088262e-07\n",
      "3.5118061718974536e-08\n",
      "6.334450166815847e-09\n",
      "1.1496382406867696e-09\n",
      "2.070130369189315e-10\n",
      "When lmda is 0.6 , the found gamma is: 0.6803969629549729\n",
      "nan\n",
      "0.6931784589610616\n",
      "0.22786028170185368\n",
      "0.059744421967946264\n",
      "0.012214123083947712\n",
      "0.002574079179308976\n",
      "0.0005770166391788552\n",
      "0.0001253141535927055\n",
      "2.725795903814406e-05\n",
      "5.978492432087913e-06\n",
      "1.3041322777859422e-06\n",
      "2.8553454830737473e-07\n",
      "6.208569769997931e-08\n",
      "1.359274645356829e-08\n",
      "2.9525760284635017e-09\n",
      "6.440818906065978e-10\n",
      "When lmda is 0.7 , the found gamma is: 0.7086106573695725\n",
      "nan\n",
      "0.8579846953089613\n",
      "0.32318785845545556\n",
      "0.09874557288040588\n",
      "0.024065651221276418\n",
      "0.005803479774164511\n",
      "0.0014834740125903672\n",
      "0.00037722167403562377\n",
      "9.538972059831946e-05\n",
      "2.4248005992422022e-05\n",
      "6.158411223764826e-06\n",
      "1.5681914952125627e-06\n",
      "3.9612866570356427e-07\n",
      "1.0077834140118631e-07\n",
      "2.544445567346395e-08\n",
      "6.451081072109295e-09\n",
      "1.6407047857279506e-09\n",
      "4.168584803723173e-10\n",
      "When lmda is 0.8 , the found gamma is: 0.7325071140682948\n",
      "nan\n",
      "1.0304963479648201\n",
      "0.43545021784600413\n",
      "0.15074052286568823\n",
      "0.0426127745559141\n",
      "0.011597068635439255\n",
      "0.0032885544306698994\n",
      "0.0009482125903034462\n",
      "0.00027210371493157937\n",
      "7.814620313505696e-05\n",
      "2.2467224853538157e-05\n",
      "6.473498104475961e-06\n",
      "1.8501076662023656e-06\n",
      "5.323065003356472e-07\n",
      "1.5201303106328605e-07\n",
      "4.360475940425494e-08\n",
      "1.254607287916982e-08\n",
      "3.6036333708301086e-09\n",
      "1.0332101002602418e-09\n",
      "2.9733017811928077e-10\n",
      "When lmda is 0.9 , the found gamma is: 0.7529539901425241\n",
      "nan\n",
      "1.208936249442966\n",
      "0.564452852255025\n",
      "0.21704814261687305\n",
      "0.06960358518137463\n",
      "0.021143842932792003\n",
      "0.006545884184166732\n",
      "0.002087735213518752\n",
      "0.0006659259415715188\n",
      "0.0002120742690056497\n",
      "6.760399067700935e-05\n",
      "2.1580837056884323e-05\n",
      "6.839829833618253e-06\n",
      "2.1811160123957976e-06\n",
      "6.90264483177301e-07\n",
      "2.1950568950763467e-07\n",
      "7.0007001694722e-08\n",
      "2.2275870777887092e-08\n",
      "7.079459765114441e-09\n",
      "2.258100703396535e-09\n",
      "7.196070184424772e-10\n",
      "When lmda is 1.0 , the found gamma is: 0.7706176119249791\n"
     ]
    }
   ],
   "source": [
    "lambdas = [0.001, 0.005, 0.1, 0.2, 0.3, 0.4, 0.5, 0.6, 0.7, 0.8, 0.9, 1.0]\n",
    "gammas = []\n",
    "for lmda in lambdas:\n",
    "    threshold = 0.000000001\n",
    "    repeat_until_convergence(lmda, x_vec, z_vec, threshold)"
   ]
  },
  {
   "cell_type": "code",
   "execution_count": null,
   "metadata": {},
   "outputs": [],
   "source": []
  }
 ],
 "metadata": {
  "kernelspec": {
   "display_name": "Python 3",
   "language": "python",
   "name": "python3"
  },
  "language_info": {
   "codemirror_mode": {
    "name": "ipython",
    "version": 3
   },
   "file_extension": ".py",
   "mimetype": "text/x-python",
   "name": "python",
   "nbconvert_exporter": "python",
   "pygments_lexer": "ipython3",
   "version": "3.8.5"
  }
 },
 "nbformat": 4,
 "nbformat_minor": 4
}
