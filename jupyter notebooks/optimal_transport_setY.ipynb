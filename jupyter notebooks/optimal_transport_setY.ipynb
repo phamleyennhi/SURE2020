{
 "cells": [
  {
   "cell_type": "markdown",
   "metadata": {},
   "source": [
    "# Import packages"
   ]
  },
  {
   "cell_type": "code",
   "execution_count": 116,
   "metadata": {},
   "outputs": [],
   "source": [
    "import numpy as np\n",
    "import matplotlib.pyplot as plt\n",
    "import random\n",
    "global_lambdas = []\n",
    "global_gammas = []"
   ]
  },
  {
   "cell_type": "markdown",
   "metadata": {},
   "source": [
    "# Generate data"
   ]
  },
  {
   "cell_type": "code",
   "execution_count": 141,
   "metadata": {},
   "outputs": [],
   "source": [
    "mu, sigma = 0, 1 # mean and standard deviation\n",
    "N = 100000"
   ]
  },
  {
   "cell_type": "markdown",
   "metadata": {},
   "source": [
    "### Generate z_vec"
   ]
  },
  {
   "cell_type": "markdown",
   "metadata": {},
   "source": [
    "Generate vector z of hidden states as follows:\n",
    "\n",
    "$$z_{i} = \\gamma z_{i-1} + \\delta_i \\hspace{0.5cm} \\text{with } z_0 = 0, \\hspace{0.2cm} \\gamma = 0.5, \\hspace{0.2cm} \\delta = norm(0, 1)$$"
   ]
  },
  {
   "cell_type": "code",
   "execution_count": 142,
   "metadata": {},
   "outputs": [],
   "source": [
    "z0 = 0\n",
    "gamma = 0.1\n",
    "delta = np.random.normal(mu, sigma, N)\n",
    "z_vec = []\n",
    "z_vec.append(gamma*z0 + delta[0])\n",
    "for i in range(1, N):\n",
    "    z_vec.append(gamma*z_vec[i-1] + delta[i])  \n",
    "\n",
    "# convert to np array\n",
    "z_vec = np.array(z_vec)"
   ]
  },
  {
   "cell_type": "markdown",
   "metadata": {},
   "source": [
    "### Generate x_vec"
   ]
  },
  {
   "cell_type": "markdown",
   "metadata": {},
   "source": [
    "Generate vector x of observations as follows:\n",
    "\n",
    "$$x_{i} = norm(z_{i},1) \\hspace{0.5cm}$$"
   ]
  },
  {
   "cell_type": "code",
   "execution_count": 143,
   "metadata": {},
   "outputs": [],
   "source": [
    "x_vec = []\n",
    "for i in range(N):\n",
    "    x_i = np.random.normal(z_vec[i], sigma)\n",
    "    #x_i = z_vec[i]\n",
    "    x_vec.append(x_i)\n",
    "\n",
    "# convert to np array\n",
    "x_vec = np.array(x_vec)"
   ]
  },
  {
   "cell_type": "markdown",
   "metadata": {},
   "source": [
    "# Algorithm"
   ]
  },
  {
   "cell_type": "markdown",
   "metadata": {},
   "source": [
    "$$ \\underset{z}{min} \\sum_{i} \\left[\\left(x_i - z_i \\right)^2 + \\lambda \\left(z_i - \\gamma z_{i-1}\\right)^2\\right] = \\sum_{i=1}^{m} \\left(x_i - z_i \\right)^2 + \\sum_{i=0}^{m-1}\\lambda \\left(y_{i+1} - \\gamma z_{i}\\right)^2$$\n",
    "\n",
    "Taking derivative over $z_i$ gives us:\n",
    "$$ -2\\left(x_i - z_i \\right) - 2\\lambda \\gamma \\left(y_{i+1} - \\gamma z_{i}\\right) = 0 \\Leftrightarrow z_i = \\frac{2\\gamma \\lambda y_{i+1} + 2x_i}{2 + 2\\gamma^2 \\lambda}$$\n",
    "\n",
    "$$z_m = x_m \\text{ if } i = m$$\n",
    "\n",
    "**Step 1**: Estimate $\\gamma$\n",
    "\n",
    "**Step 2**: Estimate $z$ from the just-found $\\gamma$"
   ]
  },
  {
   "cell_type": "code",
   "execution_count": 144,
   "metadata": {},
   "outputs": [],
   "source": [
    "def step_one(lmda, gamma, x_vec, N, y_vec):\n",
    "    z = []\n",
    "    for i in range(N-1):\n",
    "        if y_vec is None:\n",
    "            z_i = (2.0*x_vec[i])/(2.0+2.0*(gamma**2)*lmda)\n",
    "        else:\n",
    "            z_i = (2.0*lmda*gamma*y_vec[i+1] + 2.0*x_vec[i])/(2.0+2.0*(gamma**2)*lmda)\n",
    "        z.append(z_i)\n",
    "    z.append(x_vec[N-1])\n",
    "    z = np.array(z, dtype='float')\n",
    "    y_vec = np.array(y_vec, dtype='float')\n",
    "    \n",
    "    MSE = None\n",
    "    if y_vec is not None:\n",
    "        MSE = np.sum((y_vec - z)**2)/N\n",
    "    return z, MSE"
   ]
  },
  {
   "cell_type": "code",
   "execution_count": 145,
   "metadata": {},
   "outputs": [],
   "source": [
    "def step_two(z):\n",
    "    Z = []\n",
    "    Z.append(z0)\n",
    "    for i in range(N-1):\n",
    "        Z.append(z[i])\n",
    "    Z = np.matrix(Z, dtype='float')\n",
    "    ZZ = np.matmul(Z, Z.transpose())\n",
    "    ZZ = np.linalg.pinv(ZZ)\n",
    "    ZZ_vec = np.matmul(Z, z.transpose())\n",
    "    gamma_vec = ZZ*ZZ_vec\n",
    "    gamma = gamma_vec.item(0)\n",
    "    return gamma"
   ]
  },
  {
   "cell_type": "code",
   "execution_count": 146,
   "metadata": {},
   "outputs": [],
   "source": [
    "def repeat_until_convergence(lmda, x_vec, z_vec, threshold):\n",
    "    gamma = random.randrange(0,1)\n",
    "    iteration = 0\n",
    "    while True:\n",
    "        if iteration == 0:\n",
    "            y_vec = None\n",
    "        else:\n",
    "            y_vec = found_z\n",
    "        found_z, MSE = step_one(lmda, gamma, x_vec, N, y_vec)\n",
    "        gamma = step_two(found_z)\n",
    "        iteration += 1\n",
    "        print(MSE)\n",
    "        if MSE != None and MSE < threshold:\n",
    "            gammas.append(gamma)\n",
    "            print(\"When lmda is\", lmda, \", the found gamma is:\", gamma)\n",
    "            break"
   ]
  },
  {
   "cell_type": "code",
   "execution_count": 147,
   "metadata": {},
   "outputs": [
    {
     "name": "stdout",
     "output_type": "stream",
     "text": [
      "nan\n",
      "4.757461224789011e-09\n",
      "4.810162293735796e-15\n",
      "When lmda is 0.001 , the found gamma is: 0.04857493012514536\n",
      "nan\n",
      "1.1893429009024364e-07\n",
      "3.0061798229399648e-12\n",
      "When lmda is 0.005 , the found gamma is: 0.04877082223881788\n",
      "nan\n",
      "4.7552438446796286e-05\n",
      "4.802711246770162e-07\n",
      "4.800705382662243e-09\n",
      "4.790568785301112e-11\n",
      "When lmda is 0.1 , the found gamma is: 0.0539331323216652\n",
      "nan\n",
      "0.00019012022560871054\n",
      "7.669947972512904e-06\n",
      "3.0604338069705416e-07\n",
      "1.2166898424594922e-08\n",
      "4.833107168602712e-10\n",
      "When lmda is 0.2 , the found gamma is: 0.060681257528746285\n",
      "nan\n",
      "0.00042756921140450744\n",
      "3.874332894016221e-05\n",
      "3.4691944137433105e-06\n",
      "3.08760809492345e-07\n",
      "2.742286435799085e-08\n",
      "2.434014523405818e-09\n",
      "2.1599762325880848e-10\n",
      "When lmda is 0.3 , the found gamma is: 0.06933739652303765\n",
      "nan\n",
      "0.0007597654350970799\n",
      "0.00012213304517774104\n",
      "1.9375653354975343e-05\n",
      "3.0460569334470016e-06\n",
      "4.7681860327976256e-07\n",
      "7.450367054548505e-08\n",
      "1.1632713650661984e-08\n",
      "1.8157504309597106e-09\n",
      "2.833873039015221e-10\n",
      "When lmda is 0.4 , the found gamma is: 0.08080659454906969\n",
      "nan\n",
      "0.001186575124996582\n",
      "0.00029729312334026483\n",
      "7.336457005198885e-05\n",
      "1.7871505529852404e-05\n",
      "4.319111665616427e-06\n",
      "1.0393369337739367e-06\n",
      "2.495479579095158e-07\n",
      "5.985047990007136e-08\n",
      "1.4346348490006287e-08\n",
      "3.4379296655425366e-09\n",
      "8.237484433531364e-10\n",
      "When lmda is 0.5 , the found gamma is: 0.09663956450784326\n",
      "nan\n",
      "0.001707864698164088\n",
      "0.0006143848618049933\n",
      "0.00021705770777297566\n",
      "7.530417066608675e-05\n",
      "2.57702464930012e-05\n",
      "8.73841951466072e-06\n",
      "2.946022253281092e-06\n",
      "9.89719821684019e-07\n",
      "3.3180226555125704e-07\n",
      "1.110993932714055e-07\n",
      "3.717335562861491e-08\n",
      "1.2432837669498444e-08\n",
      "4.157223990430781e-09\n",
      "1.3898744395092795e-09\n",
      "4.646355055307681e-10\n",
      "When lmda is 0.6 , the found gamma is: 0.11964440770607095\n",
      "nan\n",
      "0.002323500760115773\n",
      "0.001133877955420547\n",
      "0.0005411584146597217\n",
      "0.00025179862925758274\n",
      "0.00011452765122257212\n",
      "5.11509147806157e-05\n",
      "2.2535065055936956e-05\n",
      "9.831083671238628e-06\n",
      "4.259657419385658e-06\n",
      "1.8370553635184034e-06\n",
      "7.89782166300268e-07\n",
      "3.388322480724968e-07\n",
      "1.4516481342994559e-07\n",
      "6.213581657810526e-08\n",
      "2.6580455346284893e-08\n",
      "1.1366116489506375e-08\n",
      "4.859033948347856e-09\n",
      "2.0768949726953753e-09\n",
      "8.876284652753546e-10\n",
      "When lmda is 0.7 , the found gamma is: 0.15481646842650604\n",
      "nan\n",
      "0.0030333501045276172\n",
      "0.001926060678575389\n",
      "0.001189122698269839\n",
      "0.0007084774997658043\n",
      "0.0004068642739685044\n",
      "0.00022576767963902326\n",
      "0.00012157989142794594\n",
      "6.386539385634401e-05\n",
      "3.28898961659522e-05\n",
      "1.668067429707426e-05\n",
      "8.362994574929608e-06\n",
      "4.157362140981621e-06\n",
      "2.0539511860353e-06\n",
      "1.010261305633656e-06\n",
      "4.953394949467262e-07\n",
      "2.4232533572433995e-07\n",
      "1.1836092745564271e-07\n",
      "5.774780609752261e-08\n",
      "2.8152975771032515e-08\n",
      "1.3717540135492748e-08\n",
      "6.681323392485572e-09\n",
      "3.2533662684569624e-09\n",
      "1.583881005638752e-09\n",
      "7.710023002225827e-10\n",
      "When lmda is 0.8 , the found gamma is: 0.20952778809507322\n",
      "nan\n",
      "0.0038372797129406205\n",
      "0.003070454525119928\n",
      "0.0023701192222851785\n",
      "0.0017402528899265054\n",
      "0.0012054330715280043\n",
      "0.0007850403161959388\n",
      "0.0004810024082811466\n",
      "0.00027834218774373007\n",
      "0.00015304999936945448\n",
      "8.055957759494575e-05\n",
      "4.090832618881075e-05\n",
      "2.0190883274070643e-05\n",
      "9.750501945244061e-06\n",
      "4.632717939857969e-06\n",
      "2.175207432918857e-06\n",
      "1.0127202328589395e-06\n",
      "4.68695010373694e-07\n",
      "2.1601797499185346e-07\n",
      "9.927647423738701e-08\n",
      "4.553551177916143e-08\n",
      "2.085796661508223e-08\n",
      "9.545473902522194e-09\n",
      "4.365700471552854e-09\n",
      "1.9958500626867804e-09\n",
      "9.121752642354189e-10\n",
      "When lmda is 0.9 , the found gamma is: 0.2855200674088863\n",
      "nan\n",
      "0.004735156754466554\n",
      "0.0046551304929557035\n",
      "0.004369184518780696\n",
      "0.0038225718954656976\n",
      "0.0030557498125199254\n",
      "0.0021992502308818954\n",
      "0.0014123774745750314\n",
      "0.000806745035967965\n",
      "0.0004106108017493768\n",
      "0.00018738508074841068\n",
      "7.742832948084498e-05\n",
      "2.9326781466680344e-05\n",
      "1.0320704769174131e-05\n",
      "3.4206793114226264e-06\n",
      "1.08121818024303e-06\n",
      "3.2949304366622656e-07\n",
      "9.768602755619261e-08\n",
      "2.837884263259385e-08\n",
      "8.123488375097732e-09\n",
      "2.300853527997216e-09\n",
      "6.468003091156971e-10\n",
      "When lmda is 1.0 , the found gamma is: 0.36750613321117326\n"
     ]
    }
   ],
   "source": [
    "lambdas = [0.001, 0.005, 0.1, 0.2, 0.3, 0.4, 0.5, 0.6, 0.7, 0.8, 0.9, 1.0]\n",
    "gammas = []\n",
    "for lmda in lambdas:\n",
    "    threshold = 0.000000001\n",
    "    repeat_until_convergence(lmda, x_vec, z_vec, threshold)"
   ]
  },
  {
   "cell_type": "code",
   "execution_count": 148,
   "metadata": {},
   "outputs": [],
   "source": [
    "global_lambdas.append(lambdas)\n",
    "global_gammas.append(gammas)"
   ]
  },
  {
   "cell_type": "code",
   "execution_count": 149,
   "metadata": {},
   "outputs": [
    {
     "data": {
      "text/plain": [
       "<matplotlib.legend.Legend at 0x121c588e0>"
      ]
     },
     "execution_count": 149,
     "metadata": {},
     "output_type": "execute_result"
    },
    {
     "data": {
      "image/png": "[encoded data removed]",
      "text/plain": [
       "<Figure size 432x288 with 1 Axes>"
      ]
     },
     "metadata": {
      "needs_background": "light"
     },
     "output_type": "display_data"
    }
   ],
   "source": [
    "for i in range(len(global_lambdas)):\n",
    "    plt.plot(global_lambdas[i], global_gammas[i], '.')\n",
    "\n",
    "dt = [\"100\", \"1000\", \"10000\", \"100000\"]\n",
    "plt.legend(dt)"
   ]
  },
  {
   "cell_type": "code",
   "execution_count": null,
   "metadata": {},
   "outputs": [],
   "source": []
  },
  {
   "cell_type": "code",
   "execution_count": null,
   "metadata": {},
   "outputs": [],
   "source": []
  }
 ],
 "metadata": {
  "kernelspec": {
   "display_name": "Python 3",
   "language": "python",
   "name": "python3"
  },
  "language_info": {
   "codemirror_mode": {
    "name": "ipython",
    "version": 3
   },
   "file_extension": ".py",
   "mimetype": "text/x-python",
   "name": "python",
   "nbconvert_exporter": "python",
   "pygments_lexer": "ipython3",
   "version": "3.8.5"
  }
 },
 "nbformat": 4,
 "nbformat_minor": 4
}
