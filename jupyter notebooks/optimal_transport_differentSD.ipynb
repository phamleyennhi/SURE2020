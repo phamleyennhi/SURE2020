{
 "cells": [
  {
   "cell_type": "markdown",
   "metadata": {},
   "source": [
    "# Import packages"
   ]
  },
  {
   "cell_type": "code",
   "execution_count": 884,
   "metadata": {},
   "outputs": [],
   "source": [
    "import numpy as np\n",
    "import matplotlib.pyplot as plt\n",
    "from sklearn.linear_model import LinearRegression\n",
    "import random\n",
    "global_lambdas = []\n",
    "global_gammas = []"
   ]
  },
  {
   "cell_type": "markdown",
   "metadata": {},
   "source": [
    "# Generate data"
   ]
  },
  {
   "cell_type": "code",
   "execution_count": 919,
   "metadata": {},
   "outputs": [],
   "source": [
    "mu, sigma = 0, 0.5 # mean and standard deviation\n",
    "N = 100000"
   ]
  },
  {
   "cell_type": "markdown",
   "metadata": {},
   "source": [
    "### Generate z_vec"
   ]
  },
  {
   "cell_type": "markdown",
   "metadata": {},
   "source": [
    "Generate vector z of hidden states as follows:\n",
    "\n",
    "$$z_{i} = \\gamma z_{i-1} + \\delta_i \\hspace{0.5cm} \\text{with } z_0 = 0, \\hspace{0.2cm} \\gamma = 0.5, \\hspace{0.2cm} \\delta = norm(0, 1)$$"
   ]
  },
  {
   "cell_type": "code",
   "execution_count": 920,
   "metadata": {},
   "outputs": [],
   "source": [
    "z0 = 0\n",
    "gamma = 0.3\n",
    "delta = np.random.normal(mu, 1, N)\n",
    "z_vec = []\n",
    "z_vec.append(gamma*z0 + delta[0])\n",
    "for i in range(1, N):\n",
    "    z_vec.append(gamma*z_vec[i-1] + delta[i])  \n",
    "\n",
    "# convert to np array\n",
    "z_vec = np.array(z_vec)"
   ]
  },
  {
   "cell_type": "markdown",
   "metadata": {},
   "source": [
    "### Generate x_vec"
   ]
  },
  {
   "cell_type": "markdown",
   "metadata": {},
   "source": [
    "Generate vector x of observations as follows:\n",
    "\n",
    "$$x_{i} = norm(z_{i},1) \\hspace{0.5cm}$$"
   ]
  },
  {
   "cell_type": "code",
   "execution_count": 921,
   "metadata": {},
   "outputs": [],
   "source": [
    "x_vec = []\n",
    "for i in range(N):\n",
    "    x_i = np.random.normal(z_vec[i], sigma)\n",
    "#     x_i = z_vec[i]\n",
    "    x_vec.append(x_i)\n",
    "\n",
    "# convert to np array\n",
    "x_vec = np.array(x_vec)"
   ]
  },
  {
   "cell_type": "markdown",
   "metadata": {},
   "source": [
    "# Algorithm"
   ]
  },
  {
   "cell_type": "markdown",
   "metadata": {},
   "source": [
    "$$ \\underset{z}{min} \\sum_{i} \\left[\\left(x_i - z_i \\right)^2 + \\lambda \\left(z_i - \\gamma z_{i-1}\\right)^2\\right]$$\n",
    "\n",
    "Taking derivative over $z_i$ gives us:\n",
    "$$-2\\lambda \\gamma z_{i-1} + (2 + 2\\lambda - 2\\gamma^2\\lambda) - 2\\lambda \\gamma z_{i+1} = 2x_i$$\n",
    "\n",
    "LU decomposition of the tridiagonal matrix gives us the following system of equations:\n",
    "\n",
    "\\begin{equation}\n",
    "    \\begin{split}\n",
    "        & t_1 = v = 2 + 2\\lambda - 2\\gamma^2\\lambda, \\hspace{1cm} u = r_jt_{j-1} = - 2\\lambda \\gamma \\\\\n",
    "        & \\begin{cases} v = r_ju + t_j \\hspace{0.1cm} \\text{if} \\hspace{0.1cm} j \\le m \\\\  2 + 2 \\lambda = r_ju + t_j \\hspace{0.1cm} \\text{if} \\hspace{0.1cm} j = m\\end{cases}\n",
    "    \\end{split}\n",
    "\\end{equation}\n",
    "\n",
    "\n",
    "**Step 1**: Estimate $\\gamma$ using LU decomposition\n",
    "\n",
    "**Step 2**: Estimate $z$ from the just-found $\\gamma$"
   ]
  },
  {
   "cell_type": "code",
   "execution_count": 922,
   "metadata": {},
   "outputs": [],
   "source": [
    "def step_one(lmda, gamma, x_vec, N, z=None):\n",
    "    \n",
    "    u = -2*lmda*gamma\n",
    "    v = 2 + 2*lmda + 2*lmda*(gamma**2)\n",
    "    c_vec = 2*x_vec\n",
    "    r_vec = []\n",
    "    t_vec = []\n",
    "    t_vec.append(v)\n",
    "    # calculate LU\n",
    "    for i in range(N):\n",
    "        r_vec.append(u/t_vec[i])\n",
    "        if i < N-1:\n",
    "            t_vec.append(v-r_vec[i]*u)\n",
    "        else:\n",
    "            t_vec.append(2+2*lmda-r_vec[i]*u)\n",
    "    \n",
    "    # Az = C -> LUz = C, let Uz = D -> LD = C\n",
    "    d_vec = []\n",
    "    d_vec.append(c_vec[0])\n",
    "    for i in range(1, N):\n",
    "        d_vec.append(c_vec[i] - r_vec[i-1]*d_vec[i-1])\n",
    "    \n",
    "    # Calculate z\n",
    "    found_z = []\n",
    "    found_z.append(d_vec[N-1]/t_vec[N-1])\n",
    "    for i in range (N-2, -1, -1):\n",
    "        z_i = (d_vec[i] - u*found_z[len(found_z)-1])/t_vec[i]\n",
    "        found_z.append(z_i)\n",
    "    found_z.reverse()\n",
    "    z = np.array(z, dtype='float')\n",
    "    found_z = np.array(found_z, dtype='float')\n",
    "    \n",
    "    MSE = None\n",
    "    if z is not None:\n",
    "        MSE = np.sum((z - found_z)**2)/N\n",
    "    return found_z, MSE"
   ]
  },
  {
   "cell_type": "code",
   "execution_count": 923,
   "metadata": {},
   "outputs": [],
   "source": [
    "def step_two(z):\n",
    "    Z = []\n",
    "    Z.append(z0)\n",
    "    for i in range(N-1):\n",
    "        Z.append(z[i])\n",
    "    Z = np.matrix(Z, dtype='float')\n",
    "    ZZ = np.matmul(Z, Z.transpose())\n",
    "    ZZ = np.linalg.pinv(ZZ)\n",
    "    ZZ_vec = np.matmul(Z, z.transpose())\n",
    "    gamma_vec = ZZ*ZZ_vec\n",
    "    gamma = gamma_vec.item(0)\n",
    "    return gamma"
   ]
  },
  {
   "cell_type": "code",
   "execution_count": 924,
   "metadata": {},
   "outputs": [],
   "source": [
    "def repeat_until_convergence(lmda, x_vec, z_vec, threshold):\n",
    "    gamma = random.randrange(0,1)\n",
    "    iteration = 0\n",
    "    while True:\n",
    "        if iteration == 0:\n",
    "            z = None\n",
    "        else:\n",
    "            z = found_z\n",
    "        found_z, MSE = step_one(lmda, gamma, x_vec, N, z)\n",
    "        gamma = step_two(found_z)\n",
    "        iteration += 1\n",
    "        print(MSE)\n",
    "        if MSE != None and MSE < threshold:\n",
    "            gammas.append(gamma)\n",
    "            print(\"When lmda is\", lmda, \", the found gamma is:\", gamma)\n",
    "            break\n",
    "    return found_z"
   ]
  },
  {
   "cell_type": "code",
   "execution_count": 925,
   "metadata": {},
   "outputs": [
    {
     "name": "stdout",
     "output_type": "stream",
     "text": [
      "nan\n",
      "1.5848107744794524e-07\n",
      "5.609729130298043e-13\n",
      "When lmda is 0.001 , the found gamma is: 0.24585622883180377\n",
      "nan\n",
      "3.899436126895239e-06\n",
      "3.410948499400213e-10\n",
      "When lmda is 0.005 , the found gamma is: 0.24774217740571666\n",
      "nan\n",
      "0.0010919697601480334\n",
      "2.9501823275271056e-05\n",
      "8.006316492787491e-07\n",
      "2.1662571970931407e-08\n",
      "5.857596417384384e-10\n",
      "When lmda is 0.1 , the found gamma is: 0.2955711786232337\n",
      "nan\n",
      "0.0031168105143394268\n",
      "0.0002656711815446375\n",
      "2.140443811042078e-05\n",
      "1.689336729421999e-06\n",
      "1.3249026782266564e-07\n",
      "1.0371994335837694e-08\n",
      "8.115550368778667e-10\n",
      "When lmda is 0.2 , the found gamma is: 0.3514483491620613\n",
      "nan\n",
      "0.005160862293966014\n",
      "0.0008070562392225082\n",
      "0.00010988638627913205\n",
      "1.411612049309262e-05\n",
      "1.7737526896928813e-06\n",
      "2.2109851637901818e-07\n",
      "2.7481259094700285e-08\n",
      "3.412306811607156e-09\n",
      "4.2354983285055354e-10\n",
      "When lmda is 0.3 , the found gamma is: 0.4105891587546379\n",
      "nan\n",
      "0.006923549668084239\n",
      "0.0016151891821584293\n",
      "0.0002991598097182819\n",
      "4.941727065820562e-05\n",
      "7.771173188549806e-06\n",
      "1.1978567966100363e-06\n",
      "1.8317825108014582e-07\n",
      "2.7924661369612552e-08\n",
      "4.251791031030521e-09\n",
      "6.470665462598435e-10\n",
      "When lmda is 0.4 , the found gamma is: 0.4692748707252433\n",
      "nan\n",
      "0.008336004590128078\n",
      "0.002611680909170812\n",
      "0.0005908862186806679\n",
      "0.00011105184859480053\n",
      "1.9153222661297594e-05\n",
      "3.1846010149691163e-06\n",
      "5.215660465145074e-07\n",
      "8.489774702898991e-08\n",
      "1.378493187915751e-08\n",
      "2.2360328304713083e-09\n",
      "3.6255717823204076e-10\n",
      "When lmda is 0.5 , the found gamma is: 0.5239671412986041\n",
      "nan\n",
      "0.00941530517280557\n",
      "0.0037236258707439383\n",
      "0.0009693132934119487\n",
      "0.00019315582367816414\n",
      "3.382045779736448e-05\n",
      "5.60195690533193e-06\n",
      "9.06973599845809e-07\n",
      "1.4549508252650877e-07\n",
      "2.325395383940493e-08\n",
      "3.711104199543169e-09\n",
      "5.91906204388678e-10\n",
      "When lmda is 0.6 , the found gamma is: 0.5725167215603143\n",
      "nan\n",
      "0.010206543185022586\n",
      "0.004894535919692007\n",
      "0.0014146311334356843\n",
      "0.00028635110631973655\n",
      "4.856949088487463e-05\n",
      "7.646889627104915e-06\n",
      "1.1687418882590126e-06\n",
      "1.7656645778327051e-07\n",
      "2.655439029707851e-08\n",
      "3.9866091665183666e-09\n",
      "5.981032766294397e-10\n",
      "When lmda is 0.7 , the found gamma is: 0.6143928089881011\n",
      "nan\n",
      "0.010759728791634041\n",
      "0.006083539263272166\n",
      "0.0019091076322399281\n",
      "0.0003821605382565398\n",
      "6.101227792455777e-05\n",
      "8.885347838301911e-06\n",
      "1.2495937122897036e-06\n",
      "1.7345864983373317e-07\n",
      "2.3961530825926374e-08\n",
      "3.3040749816261937e-09\n",
      "4.5529662580504296e-10\n",
      "When lmda is 0.8 , the found gamma is: 0.6500432845604408\n",
      "nan\n",
      "0.01112105267334059\n",
      "0.00726198720004964\n",
      "0.002438672103337427\n",
      "0.0004745960952419432\n",
      "7.008277640987241e-05\n",
      "9.299393614734346e-06\n",
      "1.1875920265231326e-06\n",
      "1.4962136911529217e-07\n",
      "1.876024705815639e-08\n",
      "2.348266981478809e-09\n",
      "2.93762340187536e-10\n",
      "When lmda is 0.9 , the found gamma is: 0.6803128953602204\n",
      "nan\n",
      "0.011330146841490186\n",
      "0.008410220463203189\n",
      "0.002992672747500777\n",
      "0.0005601129823942353\n",
      "7.571920911097524e-05\n",
      "9.0855549984022e-06\n",
      "1.0475007706466975e-06\n",
      "1.1917123196570038e-07\n",
      "1.3497391892124083e-08\n",
      "1.5264315860938072e-09\n",
      "1.7253853088552944e-10\n",
      "When lmda is 1.0 , the found gamma is: 0.7060964788755891\n",
      "nan\n",
      "0.011419804714086126\n",
      "0.009515063225215286\n",
      "0.00356316232563088\n",
      "0.0006370131166823231\n",
      "7.839128166017369e-05\n",
      "8.481003052135558e-06\n",
      "8.81468942655859e-07\n",
      "9.046958448728335e-08\n",
      "9.24836038832601e-09\n",
      "9.44222752461527e-10\n",
      "When lmda is 1.1 , the found gamma is: 0.7281838361117419\n",
      "nan\n",
      "0.011416632847972074\n",
      "0.010567998886498765\n",
      "0.00414420706376226\n",
      "0.000704818433313467\n",
      "7.874972935427511e-05\n",
      "7.681172979976397e-06\n",
      "7.204518115179462e-07\n",
      "6.679978040341567e-08\n",
      "6.172210739149278e-09\n",
      "5.697063891316811e-10\n",
      "When lmda is 1.2 , the found gamma is: 0.747265430986289\n",
      "nan\n",
      "0.011341976575881301\n",
      "0.011563864091128638\n",
      "0.004731343820366904\n",
      "0.0007637806817823406\n",
      "7.743179079098322e-05\n",
      "6.820274182873062e-06\n",
      "5.787196158054765e-07\n",
      "4.860201519930346e-08\n",
      "4.069719050137848e-09\n",
      "3.404922959414054e-10\n",
      "When lmda is 1.3 , the found gamma is: 0.763866296579898\n",
      "nan\n",
      "0.01121284615594106\n",
      "0.012499912600812103\n",
      "0.00532118395214985\n",
      "0.0008145438345521502\n",
      "7.497787989221005e-05\n",
      "5.979349571392558e-06\n",
      "4.604693734712354e-07\n",
      "3.5141378855572586e-08\n",
      "2.6753162933629558e-09\n",
      "2.0353559209208693e-10\n",
      "When lmda is 1.4 , the found gamma is: 0.778417647991081\n",
      "nan\n",
      "0.01104274099872596\n",
      "0.013375138984899133\n",
      "0.005911131313940591\n",
      "0.0008579286297610653\n",
      "7.181079536280115e-05\n",
      "5.201349520819984e-06\n",
      "3.648219970052921e-07\n",
      "2.53900518631491e-08\n",
      "1.7635098083591442e-09\n",
      "1.2242357085171878e-10\n",
      "When lmda is 1.5 , the found gamma is: 0.7912635075385451\n",
      "nan\n",
      "0.010842344518185602\n",
      "0.014189785418242609\n",
      "0.006499181969660069\n",
      "0.0008948030669615064\n",
      "6.824416512890413e-05\n",
      "4.504787733617187e-06\n",
      "2.888274891170226e-07\n",
      "1.8396844988959137e-08\n",
      "1.1699044604855704e-09\n",
      "7.436747394635873e-11\n",
      "When lmda is 1.6 , the found gamma is: 0.802679172929542\n",
      "nan\n",
      "0.010620093463727276\n",
      "0.014944978945945018\n",
      "0.007083780688266874\n",
      "0.0009260093797976441\n",
      "6.450139695628373e-05\n",
      "3.8937694668540335e-06\n",
      "2.2903300002614268e-07\n",
      "1.3398499014480055e-08\n",
      "7.828244205445152e-10\n",
      "When lmda is 1.7 , the found gamma is: 0.8128805739649347\n",
      "nan\n",
      "0.010382637079790263\n",
      "0.0156424629448824\n",
      "0.007663716695300944\n",
      "0.0009523264582492135\n",
      "6.073600075520153e-05\n",
      "3.364611933982267e-06\n",
      "1.821966933502182e-07\n",
      "9.822628562566344e-09\n",
      "5.290442502002079e-10\n",
      "When lmda is 1.8 , the found gamma is: 0.8220598336813916\n",
      "nan\n",
      "0.010135204139186898\n",
      "0.016284397474897135\n",
      "0.008238046757946973\n",
      "0.0009744536831896876\n",
      "5.7049514529377426e-05\n",
      "2.909920536656714e-06\n",
      "1.4554932318686736e-07\n",
      "7.254924792250197e-09\n",
      "3.613605798437682e-10\n",
      "When lmda is 1.9 , the found gamma is: 0.830356247084227\n",
      "nan\n",
      "0.00988189493323038\n",
      "0.016873210583338336\n",
      "0.00880603756014858\n",
      "0.0009930071712287525\n",
      "5.350594389201899e-05\n",
      "2.520958185008471e-06\n",
      "1.168389857682136e-07\n",
      "5.401031887705234e-09\n",
      "2.49541285009787e-10\n",
      "When lmda is 2.0 , the found gamma is: 0.837890506078669\n"
     ]
    }
   ],
   "source": [
    "lambdas = [0.001, 0.005, 0.1, 0.2, 0.3, 0.4, 0.5, 0.6, 0.7, 0.8, 0.9, 1.0, 1.1, 1.2, 1.3, 1.4, 1.5, 1.6, 1.7, 1.8, 1.9, 2.0]\n",
    "# -0.9, -0.8, -0.7, -0.6, -0.5, -0.4,-0.3, -0.2, -0.1\n",
    "gammas = []\n",
    "all_z = []\n",
    "\n",
    "for lmda in lambdas:\n",
    "    threshold = 0.000000001\n",
    "    z = repeat_until_convergence(lmda, x_vec, z_vec, threshold)\n",
    "    all_z.append(z)\n",
    "    "
   ]
  },
  {
   "cell_type": "code",
   "execution_count": 926,
   "metadata": {},
   "outputs": [
    {
     "name": "stdout",
     "output_type": "stream",
     "text": [
      "[0.001, 0.005, 0.1, 0.2, 0.3, 0.4, 0.5, 0.6, 0.7, 0.8, 0.9, 1.0, 1.1, 1.2, 1.3, 1.4, 1.5, 1.6, 1.7, 1.8, 1.9, 2.0] [0.24585622883180377, 0.24774217740571666, 0.2955711786232337, 0.3514483491620613, 0.4105891587546379, 0.4692748707252433, 0.5239671412986041, 0.5725167215603143, 0.6143928089881011, 0.6500432845604408, 0.6803128953602204, 0.7060964788755891, 0.7281838361117419, 0.747265430986289, 0.763866296579898, 0.778417647991081, 0.7912635075385451, 0.802679172929542, 0.8128805739649347, 0.8220598336813916, 0.830356247084227, 0.837890506078669]\n"
     ]
    }
   ],
   "source": [
    "print(lambdas, gammas)"
   ]
  },
  {
   "cell_type": "code",
   "execution_count": 927,
   "metadata": {},
   "outputs": [],
   "source": [
    "global_lambdas.append(lambdas)\n",
    "global_gammas.append(gammas)"
   ]
  },
  {
   "cell_type": "code",
   "execution_count": 928,
   "metadata": {},
   "outputs": [
    {
     "data": {
      "text/plain": [
       "<matplotlib.legend.Legend at 0x12fac4a30>"
      ]
     },
     "execution_count": 928,
     "metadata": {},
     "output_type": "execute_result"
    },
    {
     "data": {
      "image/png": "[encoded data removed]",
      "text/plain": [
       "<Figure size 432x288 with 1 Axes>"
      ]
     },
     "metadata": {
      "needs_background": "light"
     },
     "output_type": "display_data"
    }
   ],
   "source": [
    "for i in range(len(global_lambdas)):\n",
    "    plt.plot(global_lambdas[i], global_gammas[i], '.')\n",
    "\n",
    "dt = [\"100\", \"1000\", \"10000\", \"100000\"]\n",
    "plt.legend(dt)"
   ]
  },
  {
   "cell_type": "code",
   "execution_count": 930,
   "metadata": {},
   "outputs": [
    {
     "data": {
      "text/plain": [
       "[<matplotlib.lines.Line2D at 0x130a29070>]"
      ]
     },
     "execution_count": 930,
     "metadata": {},
     "output_type": "execute_result"
    },
    {
     "data": {
      "image/png": "[encoded data removed]",
      "text/plain": [
       "<Figure size 432x288 with 1 Axes>"
      ]
     },
     "metadata": {
      "needs_background": "light"
     },
     "output_type": "display_data"
    }
   ],
   "source": [
    "plt.plot(all_z[2], z_vec, '.')"
   ]
  },
  {
   "cell_type": "code",
   "execution_count": 929,
   "metadata": {},
   "outputs": [
    {
     "name": "stdout",
     "output_type": "stream",
     "text": [
      "0.1\n"
     ]
    }
   ],
   "source": [
    "print(lambdas[2])"
   ]
  },
  {
   "cell_type": "code",
   "execution_count": null,
   "metadata": {},
   "outputs": [],
   "source": []
  }
 ],
 "metadata": {
  "kernelspec": {
   "display_name": "Python 3",
   "language": "python",
   "name": "python3"
  },
  "language_info": {
   "codemirror_mode": {
    "name": "ipython",
    "version": 3
   },
   "file_extension": ".py",
   "mimetype": "text/x-python",
   "name": "python",
   "nbconvert_exporter": "python",
   "pygments_lexer": "ipython3",
   "version": "3.8.5"
  }
 },
 "nbformat": 4,
 "nbformat_minor": 4
}
